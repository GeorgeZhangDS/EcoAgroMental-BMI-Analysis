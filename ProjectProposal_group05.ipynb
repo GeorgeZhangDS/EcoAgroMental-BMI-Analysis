{
 "cells": [
  {
   "cell_type": "markdown",
   "metadata": {},
   "source": [
    "# COGS 108 - Final Project Proposal"
   ]
  },
  {
   "cell_type": "markdown",
   "metadata": {},
   "source": [
    "# Names\n",
    "\n",
    "- Anna Ma\n",
    "- Yanhao Ji\n",
    "- Fangyu Zhu\n",
    "- Wanting Zhou\n",
    "- Yixuan Zhang\n",
    "- Chimingyang Huang"
   ]
  },
  {
   "cell_type": "markdown",
   "metadata": {},
   "source": [
    "# Research Question"
   ]
  },
  {
   "cell_type": "markdown",
   "metadata": {},
   "source": [
    "How do the economic status, agricultural productivity, and incidence of depression at a national level influence the population's body mass index (BMI)?"
   ]
  },
  {
   "cell_type": "markdown",
   "metadata": {},
   "source": [
    "# Background and Prior Work"
   ]
  },
  {
   "cell_type": "markdown",
   "metadata": {},
   "source": [
    "Body Mass Index, or BMI, is a numerical metric that evaluates the connection between a person's weight and height. A high BMI can suggest excessive body fat. (1) BMI is commonly utilized as a screening tool to identify potential weight-related health problems. The purpose of this study is to look into the global impact of economic issues, food production, and mental health on BMI. The study will concentrate on the influence of GDP, wheat production, and depression on BMI in particular. We aim to provide insight to establish policies and strategies to address weight-related health issues on a worldwide basis.\n",
    "\n",
    "There are already a great number of articles on this topic. For instance, Egger, Swinburn, and Islam conducted a comparative analysis of BMI data and GDP levels across 175 developing countries. They found that although the GDP growth has significantly benefited the living standard of people in developing countries.Nevertheless, it also resulted in negative consequences such as overconsumption and to some extent lead to higher levels of BMI. (2) Morver, Giacco, Pepa, Luongo, and Riccardi reviewed 14 cross-sectional studies that mainly focus on the United States. They find a consistent negative correlation between higher consumption of whole grains especially wheat and the body mass index. (3)The relationship between BMI and mental health, specifically depression, has also been widely studied. In the article “Using Genetics to Understand the Causal Influence of Higher BMI on Depression”, researchers employed a Mendelian randomization approach to examine the relationship between BMI and the likelihood of developing depression.Their analysis included separate evaluations for the influence on men and women, and they discovered a strong relationship between higher BMI and increasing rates of depression. Their findings suggest that higher BMI, with or without its metabolic consequences, may have a causal role in the development of depression. (4)\n",
    "\n",
    "Previous research has found a significant correlation between health, economic variables, and mental well-being. However, the majority of the research publications described are largely concerned with regional levels. In contrast, the purpose of this study is to investigate the global-level link between GDP, wheat output, and depression on BMI. We aim to provide a comprehensive examination of the relationships between these aspects on a larger scale, taking a global viewpoint.\n"
   ]
  },
  {
   "cell_type": "markdown",
   "metadata": {},
   "source": [
    "References (include links):\n",
    "\n",
    "1. CDC. “Body Mass Index (BMI) .” Centers for Disease Control and Prevention, 2019, www.cdc.gov/healthyweight/assessing/bmi/index.html.\n",
    "\n",
    "2. Egger, Garry, et al. “Economic Growth and Obesity: An Interesting Relationship with World-Wide Implications.” Economics & Human Biology, vol. 10, no. 2, Mar. 2012, pp. 147–153, https://www.sciencedirect.com/science/article/pii/S1570677X12000032?casa_token=qcNBIZc1_qYAAAAA:4JraTiSP5Ry3fkTxL07ffNmvyHgUHvEoLVnmOZKZAHb7ZY0O1Pn1qeu8bi7n917rpPR9daG51g#sec0080\n",
    "\n",
    "3. Giacco, R., et al. “Whole Grain Intake in Relation to Body Weight: From Epidemiological Evidence to Clinical Trials.” Nutrition, Metabolism and Cardiovascular Diseases, vol. 21, no. 12, Dec. 2011, pp. 901–908, https://www.sciencedirect.com/science/article/pii/S0939475311001694?casa_token=pZaQhiZO-EEAAAAA:Y5dTbtj8ovLqdM9pHVC8ciMYDBM_mKgdiL317MVfmWHRxh629xhNf9aucTe3_dZMBmKtjVzwoA\n",
    "\n",
    "4. Tyrrell, Jessica, et al. “Using Genetics to Understand the Causal Influence of Higher BMI on Depression.” International Journal of Epidemiology, vol. 48, no. 3, 13 Nov. 2018, pp. 834–848, \n",
    "https://academic.oup.com/ije/article/48/3/834/5155677"
   ]
  },
  {
   "cell_type": "markdown",
   "metadata": {},
   "source": [
    "# Hypothesis\n"
   ]
  },
  {
   "cell_type": "markdown",
   "metadata": {},
   "source": [
    "- **Null Hypothesis**\n",
    "\n",
    "There is no observed link between economic standing, farming efficiency, and depression prevalence to the BMI index. This essentially means that swings in these factors, namely economic condition, agricultural output, and depression rates, have no effect on the BMI index.\n",
    "\n",
    "- **Alternative Hypothesis**\n",
    "\n",
    "The BMI index shows a positive correlation with both economic prosperity and agricultural efficiency. This indicates that advancements in the economy and improvements in food production could potentially raise the BMI index. Conversely, the occurrence of melancholy displays a negative correlation with the BMI index, implying that an increase in melancholy cases could lead to a reduction in the BMI index."
   ]
  },
  {
   "cell_type": "markdown",
   "metadata": {},
   "source": [
    "# Data"
   ]
  },
  {
   "cell_type": "markdown",
   "metadata": {},
   "source": [
    "###  Ⅰ. Life Expectancy Data.csv"
   ]
  },
  {
   "cell_type": "markdown",
   "metadata": {},
   "source": [
    "- Dataset Source: [Link: https://www.kaggle.com/datasets/kumarajarshi/life-expectancy-who ]\n",
    "- Data Type: Structured Data\n",
    "- Number of Variables: 22\n",
    "- Number of Observations: 2938\n",
    "- Dataset Variables and Descriptions:"
   ]
  },
  {
   "cell_type": "markdown",
   "metadata": {},
   "source": [
    "| Variables | Descriptions |\n",
    "| :-| :-|\n",
    "| Country | Name of the country |\n",
    "| Year | Year of observation |\n",
    "| Status | Country's development status |\n",
    "| Life expectancy | Average lifespan in years |\n",
    "| Adult Mortality | Mortality rates of 15-60-year-olds per 1000 population |\n",
    "| Infant deaths | Infant deaths per 1000 population |\n",
    "| Alcohol | Per capita alcohol consumption for population aged 15 and older |\n",
    "| Percentage expenditure | Health expenditure as a percentage of GDP per capita |\n",
    "| Hepatitis B | Hepatitis B immunization coverage for 1-year-olds |\n",
    "| Measles | Reported measles cases per 1000 population |\n",
    "| BMI | Average Body Mass Index of the population |\n",
    "| Under-five deaths | Deaths under age five per 1000 population |\n",
    "| Polio | Polio immunization coverage for 1-year-olds |\n",
    "| Total expenditure | Government health expenditure as a percentage of total expenditure |\n",
    "| Diphtheria | DTP immunization coverage for 1-year-olds |\n",
    "| HIV/AIDS | Deaths per 1000 live births due to HIV/AIDS (0-4 years) |\n",
    "| GDP | GDP per capita in USD |\n",
    "| Population | Country's population |\n",
    "| Thinness 1-19 years | Prevalence of thinness among 10-19-year-olds |\n",
    "| Thinness 5-9 years | Prevalence of thinness among 5-9-year-olds |\n",
    "| Income composition of resources | Human Development Index regarding income composition |\n",
    "| Schooling | Number of years of schooling |"
   ]
  },
  {
   "cell_type": "markdown",
   "metadata": {},
   "source": [
    "- Interpretation:\n",
    "\n",
    "The Global Health Observatory (GHO) is an essential data repository under the World Health Organization (WHO), diligently tracking and recording the health status and an array of related parameters for 193 countries globally from 2000 to 2015. The open-source nature of this dataset brings immense value to our project. Detailed analyses on various dimensions included in the dataset - such as immunization factors, mortality rates, economic factors, and social factors - allow us to deeply understand their potential impact on the expected health of nations, thereby uncovering existing health disparities and potential challenges."
   ]
  },
  {
   "cell_type": "markdown",
   "metadata": {},
   "source": [
    "###  Ⅱ. Crops_AllData_Normalized.csv\n"
   ]
  },
  {
   "cell_type": "markdown",
   "metadata": {},
   "source": [
    "- Dataset Source: [Link: https://www.kaggle.com/datasets/raghavramasamy/crop-statistics-fao-all-countries ]\n",
    "- Data Type: Structured Data\n",
    "- Number of Variables: 11\n",
    "- Number of Observations: 2,513,868\n",
    "- Dataset Variables and Descriptions:"
   ]
  },
  {
   "cell_type": "markdown",
   "metadata": {},
   "source": [
    "| Variables | Descriptions |\n",
    "| :-| :-|\n",
    "| LocID | Numeric code for the location; for countries and areas, it follows the ISO 3166-1 numeric standard |\n",
    "| Location | Name of the region, subregion, country or area |\n",
    "| VarID | Numeric code for the variant |\n",
    "| Variant | Projection variant name (Medium is the most used); for more information see Definition of projection variants |\n",
    "| Time | Label identifying the single year (e.g. 1950) or the period of the data (e.g. 1950-1955) |\n",
    "| MidPeriod | Numeric value identifying the mid period of the data, with the decimal representing the month (e.g. 1950.5 for July 1950) |\n",
    "| PopMale | Male population (in thousands) |\n",
    "| PopFemale | Female population (in thousands) |\n",
    "| PopTotal | Total population (in thousands) |\n",
    "| PopDensity | Population per square kilometer (in thousands) |"
   ]
  },
  {
   "cell_type": "markdown",
   "metadata": {},
   "source": [
    "- Interpretation:\n",
    "\n",
    "This dataset, offered by the Environmental Statistics Team of the Food and Agriculture Organization (FAO) of the United Nations Statistics Division (ESS) and Mr. Salar Tayyib, encompasses production information for all primary crops worldwide. Our objective in analyzing these data is to probe the correlation between food data and population health across various nations. This analysis will facilitate an evaluation of how food supply influences public health, or shed light on the possible effects of food scarcity on the health expectancy in diverse countries."
   ]
  },
  {
   "cell_type": "markdown",
   "metadata": {},
   "source": [
    "### Ⅲ. Mental health Depression disorder Data.csv"
   ]
  },
  {
   "cell_type": "markdown",
   "metadata": {},
   "source": [
    "- Dataset Source: [Link: https://www.kaggle.com/datasets/thedevastator/uncover-global-trends-in-mental-health-disorder ]\n",
    "- Data Type: Structured Data\n",
    "- Number of Variables: 11\n",
    "- Number of Observations: 108,553 \n",
    "- Dataset Variables and Descriptions:"
   ]
  },
  {
   "cell_type": "markdown",
   "metadata": {},
   "source": [
    "| Variables | Descriptions |\n",
    "| :-| :-|\n",
    "| index | Index |\n",
    "| Entity | Unique identifier for each country or region |\n",
    "| Code | Unique code associated with an Entity/Country or region |\n",
    "| Year | Year of data collection |\n",
    "| Schizophrenia (%) | Percentage of people with schizophrenia |\n",
    "| Bipolar disorder (%) | Percentage of people with bipolar disorder |\n",
    "| Eating disorders (%) | Percentage of people with eating disorders |\n",
    "| Anxiety disorders (%) | Percentage of people with anxiety disorders |\n",
    "| Drug use disorders (%) | Percentage of people with drug use disorders |\n",
    "| Depression (%) | Percentage of people with depression |"
   ]
  },
  {
   "cell_type": "markdown",
   "metadata": {},
   "source": [
    "- Interpretation:\n",
    "\n",
    "Supplied by the Our World in Data Institute, this dataset encompasses the prevalence rates of diverse mental disorders worldwide. Through analysis of this data, we can uncover patterns in how these disorders impact public health metrics and evaluate potential risk factors. This dataset is crucial for gauging the health status of populations. It offers a comparative lens for examining variances in the impact of different mental disorder rates across countries, thus highlighting the unique challenges and effects confronting various public health systems.\n"
   ]
  },
  {
   "cell_type": "markdown",
   "metadata": {},
   "source": [
    "# Ethics & Privacy"
   ]
  },
  {
   "cell_type": "markdown",
   "metadata": {},
   "source": [
    "###  Ⅰ. “Life Expectancy (WHO)” Dataset"
   ]
  },
  {
   "cell_type": "markdown",
   "metadata": {},
   "source": [
    "The “Life Expectancy (WHO)” dataset, sourced from the Global Health Observatory (GHO) data repository under the World Health Organization (WHO) and the United Nations websites, is a reputable organization for health-related data. \n",
    "Regarding biases, the dataset aims to consider various predicting factors that affect life expectancy, including immunization, mortality, economic, and social factors. However, potential biases may arise due to data limitations, such as missing values and the exclusion of certain countries. Before analysis, we may assess the dataset for missing data, evaluate the representativeness of the included countries, and determine the potential impact of these limitations on unbiased analysis. In terms of privacy, as it is sourced from public repositories, we may expect that the data has been anonymized and does not include personally identifiable information. Complying with the terms of use, the dataset acknowledges the sources from which the data was collected. We may review and adhere to the terms of use and licensing agreements to ensure proper usage of the data.\n",
    "To detect biases and address potential issues, before conducting the analysis, we may conduct a thorough exploratory analysis, examining missing data patterns, data distributions, and the representativeness of the dataset. Furthermore, we would consider the broader ethical implications of the analysis. For example, when studying the impact of lifestyle factors or education on life expectancy, we may handle sensitive topics responsibly and avoid reinforcing stereotypes or promoting discriminatory views against specific populations regarding ethical concerns.\n",
    "To handle the identified issues, during the analysis, we may consider comparing the results with external sources or alternative datasets to detect any discrepancies or inconsistencies. And, we may evaluate the representativeness of the dataset by assessing if it includes a diverse range of countries and population groups. Regarding privacy, we would handle health-related data with care and respect individuals' privacy."
   ]
  },
  {
   "cell_type": "markdown",
   "metadata": {},
   "source": [
    "###  Ⅱ. Crop statistics FAO"
   ]
  },
  {
   "cell_type": "markdown",
   "metadata": {},
   "source": [
    "The \"Crop Statistics FAO - All countries\" dataset, sourced from the Food and Agriculture Organization of the United Nations (FAO), provides comprehensive coverage of crop production worldwide. \n",
    "In terms of biases, the dataset aims to comprehensively cover the production of all primary crops for all countries and regions. However, potential biases may arise from the exclusion of certain types of crops or cultivation practices. For example, crops harvested for hay or used for grazing are excluded. To detect and address these biases, we may compare the dataset's coverage with other agricultural data sources. During analysis, we may openly discuss the limitations or biases identified. Regarding privacy, the dataset does not explicitly mention privacy concerns or personally identifiable information. However, we may handle any sensitive data in accordance with privacy regulations and practices, especially if there is a possibility of indirectly identifying specific individuals or agricultural holdings. Regarding terms of use, the dataset acknowledges the FAO as the source and provides a link to the metadata. We may review and comply with the terms of use and any licensing agreements associated with the dataset, ensuring that the data is properly used in accordance with the FAO's guidelines and permissions. \n",
    "Regarding data ethics, the dataset appears to focus on providing comprehensive crop production data for analytical purposes. However, we are aware of the potential societal and environmental implications of crop production, such as sustainable agricultural practices, land use, and resource management. Handling these issues involves considering the broader context of crop production and addressing any potential ethical concerns in the analysis."
   ]
  },
  {
   "cell_type": "markdown",
   "metadata": {},
   "source": [
    "### Ⅲ. Global Trends in Mental Health Disorder"
   ]
  },
  {
   "cell_type": "markdown",
   "metadata": {},
   "source": [
    "The \"Global Trends in Mental Health Disorder\" dataset, sourced from Amit, provides insightful information on the prevalence of mental health disorders across countries worldwide. By exploring patterns through data visualization and in-depth analysis, we can gain a deeper understanding of these complex issues.\n",
    "Regarding biases and potential biases in the dataset, we may assess if the data composition and collection methodology could introduce biases that may hinder unbiased analysis. For example, the dataset includes information on the prevalence of mental health disorders, but it does not explicitly mention the sampling methodology or whether the data represents all populations equally. To detect biases, we would evaluate the data sources, study methodologies, and potential limitations of the dataset. During analysis, we may openly discuss any identified biases, limitations, or uncertainties to ensure the findings are accurately interpreted. In terms of privacy, the dataset does not provide specific information on individual-level data or personally identifiable information. However, we shall handle the data with caution and adhere to privacy regulations and ethical practices when working with sensitive health-related information. Considering terms of use, the dataset acknowledges the source and credits Amit. We will respect the terms of use provided by the dataset creator and give appropriate credit when using the data for research or analysis.\n",
    "When addressing data ethics, discussing mental health disorders requires sensitivity and care to avoid stigmatization or reinforcing stereotypes. We may handle and present the data in an ethical manner, ensuring that the findings are communicated in a respectful and unbiased way. Consideration should be given to potential ethical concerns related to the analysis and interpretation of mental health data.\n",
    "We may employ appropriate statistical methods and conduct sensitivity analyses to help identify and mitigate biases. When reporting the findings, we shall interpret the results cautiously, acknowledge limitations, and consider the potential implications for individuals and society. Adhering to privacy regulations and ethical practices is paramount when handling sensitive mental health data."
   ]
  },
  {
   "cell_type": "markdown",
   "metadata": {},
   "source": [
    "# Team Expectations "
   ]
  },
  {
   "cell_type": "markdown",
   "metadata": {},
   "source": [
    "1. Every team member will be assigned a fair amount of work, and they should complete them following the timeline.\n",
    "2. The team will meet at least once a week to discuss the process and work. Every team member should attend the conference.\n",
    "3. Every team member should respect other team members. They should communicate efficiently and professionally.\n",
    "4. The work on a team project should follow the project guidelines, and all work should be reviewed by every team member before submitting."
   ]
  },
  {
   "cell_type": "markdown",
   "metadata": {},
   "source": [
    "# Project Timeline Proposal"
   ]
  },
  {
   "cell_type": "markdown",
   "metadata": {},
   "source": [
    "| Meeting Date (PDT)| Meeting Time (PDT)| Completed Before Meeting                                 | Discuss at Meeting                                                                                                        |\n",
    "|:----------------------------|:--------------|:---------------------------------------------------------|:---------------------------------------------------------------------------------------------------------------------------|\n",
    "| 7/12         | 8 PM         | Read information about the project.                      | Determine the data and driving questions for the project. Assign work for completing project proposals and project surveys. |\n",
    "| 7/14         | 8 PM         | Complete assigned work of project proposal               | Finalize project proposal. Assign work for different parts of the project to different members.                          |\n",
    "| 7/17         | 8 PM         | Read and understand the dataset                          | Discuss approaches to analyze the data. Distribute work to finish data checkpoint.                                          |\n",
    "| 7/24         | 8 PM         | Import & Wrangle the data.                               | Review/Edit wrangling/EDA; Discuss Analysis Plan                                                                          |\n",
    "| 8/01          | 8 PM         | Finish EDA on the data                                   | Discuss how to analyze the data. Use what approach, and what do we wish to get. Assign work to team members to write different parts of the final report. Assign work to team members to do the video presentation. |"
   ]
  }
 ],
 "metadata": {
  "kernelspec": {
   "display_name": "Python 3 (ipykernel)",
   "language": "python",
   "name": "python3"
  },
  "language_info": {
   "codemirror_mode": {
    "name": "ipython",
    "version": 3
   },
   "file_extension": ".py",
   "mimetype": "text/x-python",
   "name": "python",
   "nbconvert_exporter": "python",
   "pygments_lexer": "ipython3",
   "version": "3.10.9"
  }
 },
 "nbformat": 4,
 "nbformat_minor": 2
}
